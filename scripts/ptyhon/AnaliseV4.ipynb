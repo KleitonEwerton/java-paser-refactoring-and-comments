{
  "cells": [
    {
      "cell_type": "markdown",
      "metadata": {
        "id": "wmNrMlILDTBb"
      },
      "source": [
        "# OBRIGATORIA\n"
      ]
    },
    {
      "cell_type": "code",
      "execution_count": 1,
      "metadata": {
        "colab": {
          "base_uri": "https://localhost:8080/"
        },
        "id": "wMI0mjmMouwG",
        "outputId": "e859548d-a227-4015-c6ae-bcdf67595fc7"
      },
      "outputs": [
        {
          "name": "stdout",
          "output_type": "stream",
          "text": [
            "Requirement already satisfied: pandas in c:\\python312\\lib\\site-packages (2.1.1)\n",
            "Requirement already satisfied: numpy>=1.26.0 in c:\\users\\kleit\\appdata\\roaming\\python\\python312\\site-packages (from pandas) (1.26.4)\n",
            "Requirement already satisfied: python-dateutil>=2.8.2 in c:\\python312\\lib\\site-packages (from pandas) (2.8.2)\n",
            "Requirement already satisfied: pytz>=2020.1 in c:\\python312\\lib\\site-packages (from pandas) (2023.3.post1)\n",
            "Requirement already satisfied: tzdata>=2022.1 in c:\\python312\\lib\\site-packages (from pandas) (2023.3)\n",
            "Requirement already satisfied: six>=1.5 in c:\\python312\\lib\\site-packages (from python-dateutil>=2.8.2->pandas) (1.16.0)\n",
            "Note: you may need to restart the kernel to use updated packages.\n"
          ]
        },
        {
          "name": "stderr",
          "output_type": "stream",
          "text": [
            "\n",
            "[notice] A new release of pip is available: 24.0 -> 24.2\n",
            "[notice] To update, run: python.exe -m pip install --upgrade pip\n"
          ]
        },
        {
          "name": "stdout",
          "output_type": "stream",
          "text": [
            "Requirement already satisfied: matplot in c:\\python312\\lib\\site-packages (0.1.9)\n",
            "Requirement already satisfied: pyloco>=0.0.134 in c:\\python312\\lib\\site-packages (from matplot) (0.0.139)\n",
            "Requirement already satisfied: matplotlib>=3.1.1 in c:\\python312\\lib\\site-packages (from matplot) (3.8.2)\n",
            "Requirement already satisfied: contourpy>=1.0.1 in c:\\python312\\lib\\site-packages (from matplotlib>=3.1.1->matplot) (1.2.0)\n",
            "Requirement already satisfied: cycler>=0.10 in c:\\python312\\lib\\site-packages (from matplotlib>=3.1.1->matplot) (0.12.1)\n",
            "Requirement already satisfied: fonttools>=4.22.0 in c:\\python312\\lib\\site-packages (from matplotlib>=3.1.1->matplot) (4.46.0)\n",
            "Requirement already satisfied: kiwisolver>=1.3.1 in c:\\python312\\lib\\site-packages (from matplotlib>=3.1.1->matplot) (1.4.5)\n",
            "Requirement already satisfied: numpy<2,>=1.21 in c:\\users\\kleit\\appdata\\roaming\\python\\python312\\site-packages (from matplotlib>=3.1.1->matplot) (1.26.4)\n",
            "Requirement already satisfied: packaging>=20.0 in c:\\python312\\lib\\site-packages (from matplotlib>=3.1.1->matplot) (23.2)\n",
            "Requirement already satisfied: pillow>=8 in c:\\python312\\lib\\site-packages (from matplotlib>=3.1.1->matplot) (10.1.0)\n",
            "Requirement already satisfied: pyparsing>=2.3.1 in c:\\python312\\lib\\site-packages (from matplotlib>=3.1.1->matplot) (3.1.1)\n",
            "Requirement already satisfied: python-dateutil>=2.7 in c:\\python312\\lib\\site-packages (from matplotlib>=3.1.1->matplot) (2.8.2)\n",
            "Requirement already satisfied: ushlex in c:\\python312\\lib\\site-packages (from pyloco>=0.0.134->matplot) (0.99.1)\n",
            "Requirement already satisfied: websocket-client in c:\\python312\\lib\\site-packages (from pyloco>=0.0.134->matplot) (1.7.0)\n",
            "Requirement already satisfied: twine in c:\\python312\\lib\\site-packages (from pyloco>=0.0.134->matplot) (4.0.2)\n",
            "Requirement already satisfied: typing in c:\\python312\\lib\\site-packages (from pyloco>=0.0.134->matplot) (3.7.4.3)\n",
            "Requirement already satisfied: SimpleWebSocketServer in c:\\python312\\lib\\site-packages (from pyloco>=0.0.134->matplot) (0.1.2)\n",
            "Requirement already satisfied: six>=1.5 in c:\\python312\\lib\\site-packages (from python-dateutil>=2.7->matplotlib>=3.1.1->matplot) (1.16.0)\n",
            "Requirement already satisfied: pkginfo>=1.8.1 in c:\\python312\\lib\\site-packages (from twine->pyloco>=0.0.134->matplot) (1.9.6)\n",
            "Requirement already satisfied: readme-renderer>=35.0 in c:\\python312\\lib\\site-packages (from twine->pyloco>=0.0.134->matplot) (42.0)\n",
            "Requirement already satisfied: requests>=2.20 in c:\\python312\\lib\\site-packages (from twine->pyloco>=0.0.134->matplot) (2.31.0)\n",
            "Requirement already satisfied: requests-toolbelt!=0.9.0,>=0.8.0 in c:\\python312\\lib\\site-packages (from twine->pyloco>=0.0.134->matplot) (1.0.0)\n",
            "Requirement already satisfied: urllib3>=1.26.0 in c:\\python312\\lib\\site-packages (from twine->pyloco>=0.0.134->matplot) (2.1.0)\n",
            "Requirement already satisfied: importlib-metadata>=3.6 in c:\\python312\\lib\\site-packages (from twine->pyloco>=0.0.134->matplot) (7.0.0)\n",
            "Requirement already satisfied: keyring>=15.1 in c:\\python312\\lib\\site-packages (from twine->pyloco>=0.0.134->matplot) (24.3.0)\n",
            "Requirement already satisfied: rfc3986>=1.4.0 in c:\\python312\\lib\\site-packages (from twine->pyloco>=0.0.134->matplot) (2.0.0)\n",
            "Requirement already satisfied: rich>=12.0.0 in c:\\python312\\lib\\site-packages (from twine->pyloco>=0.0.134->matplot) (13.7.0)\n",
            "Requirement already satisfied: zipp>=0.5 in c:\\python312\\lib\\site-packages (from importlib-metadata>=3.6->twine->pyloco>=0.0.134->matplot) (3.17.0)\n",
            "Requirement already satisfied: jaraco.classes in c:\\python312\\lib\\site-packages (from keyring>=15.1->twine->pyloco>=0.0.134->matplot) (3.3.0)\n",
            "Requirement already satisfied: pywin32-ctypes>=0.2.0 in c:\\python312\\lib\\site-packages (from keyring>=15.1->twine->pyloco>=0.0.134->matplot) (0.2.2)\n",
            "Requirement already satisfied: nh3>=0.2.14 in c:\\python312\\lib\\site-packages (from readme-renderer>=35.0->twine->pyloco>=0.0.134->matplot) (0.2.15)\n",
            "Requirement already satisfied: docutils>=0.13.1 in c:\\python312\\lib\\site-packages (from readme-renderer>=35.0->twine->pyloco>=0.0.134->matplot) (0.20.1)\n",
            "Requirement already satisfied: Pygments>=2.5.1 in c:\\python312\\lib\\site-packages (from readme-renderer>=35.0->twine->pyloco>=0.0.134->matplot) (2.17.2)\n",
            "Requirement already satisfied: charset-normalizer<4,>=2 in c:\\python312\\lib\\site-packages (from requests>=2.20->twine->pyloco>=0.0.134->matplot) (3.3.2)\n",
            "Requirement already satisfied: idna<4,>=2.5 in c:\\python312\\lib\\site-packages (from requests>=2.20->twine->pyloco>=0.0.134->matplot) (3.6)\n",
            "Requirement already satisfied: certifi>=2017.4.17 in c:\\python312\\lib\\site-packages (from requests>=2.20->twine->pyloco>=0.0.134->matplot) (2023.11.17)\n",
            "Requirement already satisfied: markdown-it-py>=2.2.0 in c:\\python312\\lib\\site-packages (from rich>=12.0.0->twine->pyloco>=0.0.134->matplot) (3.0.0)\n",
            "Requirement already satisfied: mdurl~=0.1 in c:\\python312\\lib\\site-packages (from markdown-it-py>=2.2.0->rich>=12.0.0->twine->pyloco>=0.0.134->matplot) (0.1.2)\n",
            "Requirement already satisfied: more-itertools in c:\\python312\\lib\\site-packages (from jaraco.classes->keyring>=15.1->twine->pyloco>=0.0.134->matplot) (10.1.0)\n",
            "Note: you may need to restart the kernel to use updated packages.\n"
          ]
        },
        {
          "name": "stderr",
          "output_type": "stream",
          "text": [
            "\n",
            "[notice] A new release of pip is available: 24.0 -> 24.2\n",
            "[notice] To update, run: python.exe -m pip install --upgrade pip\n"
          ]
        },
        {
          "name": "stdout",
          "output_type": "stream",
          "text": [
            "Requirement already satisfied: mlxtend in c:\\python312\\lib\\site-packages (0.23.1)\n",
            "Requirement already satisfied: scipy>=1.2.1 in c:\\users\\kleit\\appdata\\roaming\\python\\python312\\site-packages (from mlxtend) (1.13.1)\n",
            "Requirement already satisfied: numpy>=1.16.2 in c:\\users\\kleit\\appdata\\roaming\\python\\python312\\site-packages (from mlxtend) (1.26.4)\n",
            "Requirement already satisfied: pandas>=0.24.2 in c:\\python312\\lib\\site-packages (from mlxtend) (2.1.1)\n",
            "Requirement already satisfied: scikit-learn>=1.0.2 in c:\\python312\\lib\\site-packages (from mlxtend) (1.5.0)\n",
            "Requirement already satisfied: matplotlib>=3.0.0 in c:\\python312\\lib\\site-packages (from mlxtend) (3.8.2)\n",
            "Requirement already satisfied: joblib>=0.13.2 in c:\\python312\\lib\\site-packages (from mlxtend) (1.4.2)\n",
            "Requirement already satisfied: contourpy>=1.0.1 in c:\\python312\\lib\\site-packages (from matplotlib>=3.0.0->mlxtend) (1.2.0)\n",
            "Requirement already satisfied: cycler>=0.10 in c:\\python312\\lib\\site-packages (from matplotlib>=3.0.0->mlxtend) (0.12.1)\n",
            "Requirement already satisfied: fonttools>=4.22.0 in c:\\python312\\lib\\site-packages (from matplotlib>=3.0.0->mlxtend) (4.46.0)\n",
            "Requirement already satisfied: kiwisolver>=1.3.1 in c:\\python312\\lib\\site-packages (from matplotlib>=3.0.0->mlxtend) (1.4.5)\n",
            "Requirement already satisfied: packaging>=20.0 in c:\\python312\\lib\\site-packages (from matplotlib>=3.0.0->mlxtend) (23.2)\n",
            "Requirement already satisfied: pillow>=8 in c:\\python312\\lib\\site-packages (from matplotlib>=3.0.0->mlxtend) (10.1.0)\n",
            "Requirement already satisfied: pyparsing>=2.3.1 in c:\\python312\\lib\\site-packages (from matplotlib>=3.0.0->mlxtend) (3.1.1)\n",
            "Requirement already satisfied: python-dateutil>=2.7 in c:\\python312\\lib\\site-packages (from matplotlib>=3.0.0->mlxtend) (2.8.2)\n",
            "Requirement already satisfied: pytz>=2020.1 in c:\\python312\\lib\\site-packages (from pandas>=0.24.2->mlxtend) (2023.3.post1)\n",
            "Requirement already satisfied: tzdata>=2022.1 in c:\\python312\\lib\\site-packages (from pandas>=0.24.2->mlxtend) (2023.3)\n",
            "Requirement already satisfied: threadpoolctl>=3.1.0 in c:\\python312\\lib\\site-packages (from scikit-learn>=1.0.2->mlxtend) (3.5.0)\n",
            "Requirement already satisfied: six>=1.5 in c:\\python312\\lib\\site-packages (from python-dateutil>=2.7->matplotlib>=3.0.0->mlxtend) (1.16.0)\n",
            "Note: you may need to restart the kernel to use updated packages.\n"
          ]
        },
        {
          "name": "stderr",
          "output_type": "stream",
          "text": [
            "\n",
            "[notice] A new release of pip is available: 24.0 -> 24.2\n",
            "[notice] To update, run: python.exe -m pip install --upgrade pip\n"
          ]
        }
      ],
      "source": [
        "%pip install pandas\n",
        "%pip install matplot\n",
        "%pip install mlxtend"
      ]
    },
    {
      "cell_type": "code",
      "execution_count": 2,
      "metadata": {
        "colab": {
          "base_uri": "https://localhost:8080/"
        },
        "id": "sBE-csvhUbT3",
        "outputId": "01ee4833-c142-4390-cd63-d45a8964644c"
      },
      "outputs": [],
      "source": [
        "import pandas as pd\n",
        "import matplotlib.pyplot as plt\n",
        "from mlxtend.preprocessing import TransactionEncoder\n",
        "from mlxtend.frequent_patterns import association_rules, apriori\n",
        "from importlib import reload\n",
        "import numpy as np\n",
        "import csv\n",
        "\n",
        "plt=reload(plt)"
      ]
    },
    {
      "cell_type": "markdown",
      "metadata": {
        "id": "QHMHoytjVfoA"
      },
      "source": [
        "# FILE\n"
      ]
    },
    {
      "cell_type": "code",
      "execution_count": 25,
      "metadata": {},
      "outputs": [],
      "source": [
        "PROJECT = \"auto\"\n",
        "DF_COMMENTS_FILE_NAME = \"../csv/comments-\" + PROJECT +\".csv\"\n",
        "FILE_NAME_TABELA_AGRUPADA = \"../\" + PROJECT +\"/tabela_agrupada.csv\"\n",
        "FILE_NAME_TABELA_MERGE = \"../\" + PROJECT +\"/tabela_merge.csv\"\n",
        "FILE_NAME_TABELA_DIFERENCA_COMENTARIOS = \"../\" + PROJECT +\"/tabela_diferenca_comentarios.csv\"\n",
        "FILE_NAME_TABELA_DIFERENCA_COMENTARIOS_BINARIO = \"../\" + PROJECT +\"/tabela_diferenca_comentarios_binario.csv\"\n",
        "FILE_NAME_REFACTORING = \"../csv/refactorings-\" + PROJECT +\".csv\"\n",
        "FILE_NAME_REFACTORING_AGRUPADO = \"../\" + PROJECT +\"/refactoring_agrupado.csv\"\n",
        "FILE_NAME_TABELA_COMPLETA = \"../\" + PROJECT +\"/tabela_completa.csv\"\n",
        "FILE_NAME_TABELA_REGRAS = \"../\" + PROJECT +\"/tabela_regras.csv\""
      ]
    },
    {
      "cell_type": "markdown",
      "metadata": {
        "id": "F9YCxt5xxATJ"
      },
      "source": [
        "# TRABALHANDO NOS CALCULOS"
      ]
    },
    {
      "cell_type": "code",
      "execution_count": 26,
      "metadata": {
        "colab": {
          "base_uri": "https://localhost:8080/",
          "height": 480
        },
        "id": "LwA13jWdxB-s",
        "outputId": "90da8e71-b061-4923-d4d6-309b279b681c"
      },
      "outputs": [],
      "source": [
        "DF_COMMENTS = pd.read_csv(DF_COMMENTS_FILE_NAME)\n",
        "DF_COMMENTS.drop(columns=['12_HASH_CLASSPATH', '13_PARENTHASH_CLASSPATH'], inplace=True)"
      ]
    },
    {
      "cell_type": "code",
      "execution_count": 27,
      "metadata": {
        "colab": {
          "base_uri": "https://localhost:8080/",
          "height": 480
        },
        "id": "m9KT9rP3yMmQ",
        "outputId": "908ba2c1-729f-472a-9baf-e9392814fd18"
      },
      "outputs": [],
      "source": [
        "# Agrupamos pelo '11_HASH_CLASSPATH' e '12_PARENTHASH_CLASSPATH' e somamos as outras colunas\n",
        "agrupado = DF_COMMENTS.groupby([\"10_HASH\", \"11_PARENTSHASH\"]).sum().reset_index()\n",
        "\n",
        "# Renomeando as colunas para os novos nomes\n",
        "agrupado.rename(columns={\n",
        "    \"16_SEGMENTOS\": \"QNT_SEGMENTOS\",\n",
        "    \"18_ISBLOCKCOMMENT\": \"QNT_ISBLOCKCOMMENT\",\n",
        "    \"19_ISLINECOMMENT\": \"QTN_ISLINECOMMENT\",\n",
        "    \"20_ISJAVADOCCOMMENT\": \"QTN_ISJAVADOCCOMMENT\"\n",
        "}, inplace=True) \n",
        "\n",
        "\n",
        "agrupado.to_csv(FILE_NAME_TABELA_AGRUPADA, index=False)"
      ]
    },
    {
      "cell_type": "code",
      "execution_count": 28,
      "metadata": {
        "colab": {
          "base_uri": "https://localhost:8080/",
          "height": 480
        },
        "id": "9S7fo_wu3T2l",
        "outputId": "20134916-a736-4b02-d928-b639a374dda7"
      },
      "outputs": [],
      "source": [
        "# Juntando o DataFrame consigo mesmo para calcular as diferenças\n",
        "\n",
        "merged_df = pd.merge(agrupado, agrupado, right_on=\"10_HASH\", left_on=\"11_PARENTSHASH\", suffixes=('', '_PARENTE'))\n",
        "\n",
        "merged_df.drop(columns=['10_HASH_PARENTE', '11_PARENTSHASH_PARENTE'], inplace=True)\n",
        "\n",
        "merged_df.to_csv(FILE_NAME_TABELA_MERGE, index=False)"
      ]
    },
    {
      "cell_type": "markdown",
      "metadata": {
        "id": "-ai5fUL85439"
      },
      "source": [
        "# CALCULO DIFERENCAS"
      ]
    },
    {
      "cell_type": "code",
      "execution_count": 29,
      "metadata": {
        "colab": {
          "base_uri": "https://localhost:8080/",
          "height": 480
        },
        "id": "rSJx1ER42kQf",
        "outputId": "3c9c9c3b-de55-443b-89b8-4b2107d08873"
      },
      "outputs": [],
      "source": [
        "\n",
        "# Calculando as diferenças\n",
        "merged_df[\"DIFERENCA_QNT_ISBLOCKCOMMENT\"] = merged_df[\"QNT_ISBLOCKCOMMENT\"] - merged_df[\"QNT_ISBLOCKCOMMENT_PARENTE\"]\n",
        "merged_df[\"DIFERENCA_QTN_ISLINECOMMENT\"] = merged_df[\"QTN_ISLINECOMMENT\"] - merged_df[\"QTN_ISLINECOMMENT_PARENTE\"]\n",
        "merged_df[\"DIFERENCA_QTN_ISJAVADOCCOMMENT\"] = merged_df[\"QTN_ISJAVADOCCOMMENT\"] - merged_df[\"QTN_ISJAVADOCCOMMENT_PARENTE\"]\n",
        "merged_df[\"DIFERENCA_QNT_SEGMENTOS\"] = merged_df[\"QNT_SEGMENTOS\"] - merged_df[\"QNT_SEGMENTOS_PARENTE\"]\n",
        "\n",
        "merged_df.drop(columns=['QNT_ISBLOCKCOMMENT',  'QTN_ISLINECOMMENT', 'QTN_ISJAVADOCCOMMENT', 'QNT_SEGMENTOS',\n",
        "               'QNT_ISBLOCKCOMMENT_PARENTE', 'QTN_ISLINECOMMENT_PARENTE', 'QTN_ISJAVADOCCOMMENT_PARENTE', 'QNT_SEGMENTOS_PARENTE'], inplace=True)\n",
        "\n",
        "merged_df.to_csv(FILE_NAME_TABELA_DIFERENCA_COMENTARIOS, index=False)\n",
        "df = merged_df.copy()"
      ]
    },
    {
      "cell_type": "code",
      "execution_count": 30,
      "metadata": {
        "colab": {
          "base_uri": "https://localhost:8080/",
          "height": 1000
        },
        "id": "gSAqVz0YVSHN",
        "outputId": "929db757-edc6-41d4-c2e0-a11cd3267662"
      },
      "outputs": [],
      "source": [
        "# Criar uma nova coluna 'COMMENTS_CHANGE' com valores padrão como None\n",
        "df['DIFERENCA_QNT_ISBLOCKCOMMENT_CHANGE'] = None\n",
        "df['DIFERENCA_QNT_ISBLOCKCOMMENT_Aumentou'] = None\n",
        "df['DIFERENCA_QNT_ISBLOCKCOMMENT_Diminuiu'] = None\n",
        "df['DIFERENCA_QNT_ISBLOCKCOMMENT_Manteve'] = None\n",
        "\n",
        "# Atualizar a coluna 'DIFERENCA_QNT_ISBLOCKCOMMENT_CHANGE' com base na diferença calculada\n",
        "df.loc[df['DIFERENCA_QNT_ISBLOCKCOMMENT'] > 0, 'DIFERENCA_QNT_ISBLOCKCOMMENT_Aumentou'] = 1\n",
        "df.loc[df['DIFERENCA_QNT_ISBLOCKCOMMENT'] < 0, 'DIFERENCA_QNT_ISBLOCKCOMMENT_Diminuiu'] = 1\n",
        "df.loc[df['DIFERENCA_QNT_ISBLOCKCOMMENT'] == 0, 'DIFERENCA_QNT_ISBLOCKCOMMENT_Manteve'] = 1\n",
        "\n",
        "# Atualizar a coluna 'DIFERENCA_QNT_ISBLOCKCOMMENT_CHANGE' com base na diferença calculada\n",
        "df.loc[df['DIFERENCA_QNT_ISBLOCKCOMMENT'] > 0, 'DIFERENCA_QNT_ISBLOCKCOMMENT_CHANGE'] = df['DIFERENCA_QNT_ISBLOCKCOMMENT']\n",
        "df.loc[df['DIFERENCA_QNT_ISBLOCKCOMMENT'] < 0, 'DIFERENCA_QNT_ISBLOCKCOMMENT_CHANGE'] = df['DIFERENCA_QNT_ISBLOCKCOMMENT']\n",
        "df.loc[df['DIFERENCA_QNT_ISBLOCKCOMMENT'] == 0, 'DIFERENCA_QNT_ISBLOCKCOMMENT_CHANGE'] = 0\n",
        "\n",
        "df['DIFERENCA_QNT_ISBLOCKCOMMENT_CHANGE'].fillna(0, inplace=True)\n",
        "df['DIFERENCA_QNT_ISBLOCKCOMMENT_Aumentou'].fillna(0, inplace=True)\n",
        "df['DIFERENCA_QNT_ISBLOCKCOMMENT_Diminuiu'].fillna(0, inplace=True)\n",
        "df['DIFERENCA_QNT_ISBLOCKCOMMENT_Manteve'].fillna(0, inplace=True)\n",
        "\n",
        "df.drop(columns=['DIFERENCA_QNT_ISBLOCKCOMMENT', 'DIFERENCA_QNT_ISBLOCKCOMMENT_CHANGE'], inplace=True)"
      ]
    },
    {
      "cell_type": "code",
      "execution_count": 31,
      "metadata": {
        "colab": {
          "base_uri": "https://localhost:8080/",
          "height": 1000
        },
        "id": "iv3BF7me4Yid",
        "outputId": "33838bff-3bc9-42e6-9d35-ca87c478d77c"
      },
      "outputs": [],
      "source": [
        "# Criar uma nova coluna 'COMMENTS_CHANGE' com valores padrão como None\n",
        "df['DIFERENCA_QTN_ISLINECOMMENT_CHANGE'] = None\n",
        "df['DIFERENCA_QTN_ISLINECOMMENT_Aumentou'] = None\n",
        "df['DIFERENCA_QTN_ISLINECOMMENT_Diminuiu'] = None\n",
        "df['DIFERENCA_QTN_ISLINECOMMENT_Manteve'] = None\n",
        "\n",
        "# Atualizar a coluna 'DIFERENCA_QTN_ISLINECOMMENT_CHANGE' com base na diferença calculada\n",
        "df.loc[df['DIFERENCA_QTN_ISLINECOMMENT'] > 0, 'DIFERENCA_QTN_ISLINECOMMENT_Aumentou'] = 1\n",
        "df.loc[df['DIFERENCA_QTN_ISLINECOMMENT'] < 0, 'DIFERENCA_QTN_ISLINECOMMENT_Diminuiu'] = 1\n",
        "df.loc[df['DIFERENCA_QTN_ISLINECOMMENT'] == 0, 'DIFERENCA_QTN_ISLINECOMMENT_Manteve'] = 1\n",
        "\n",
        "# Atualizar a coluna 'DIFERENCA_QTN_ISLINECOMMENT_CHANGE' com base na diferença calculada\n",
        "df.loc[df['DIFERENCA_QTN_ISLINECOMMENT'] > 0, 'DIFERENCA_QTN_ISLINECOMMENT_CHANGE'] = df['DIFERENCA_QTN_ISLINECOMMENT']\n",
        "df.loc[df['DIFERENCA_QTN_ISLINECOMMENT'] < 0, 'DIFERENCA_QTN_ISLINECOMMENT_CHANGE'] = df['DIFERENCA_QTN_ISLINECOMMENT']\n",
        "df.loc[df['DIFERENCA_QTN_ISLINECOMMENT'] == 0, 'DIFERENCA_QTN_ISLINECOMMENT_CHANGE'] = 0\n",
        "\n",
        "df['DIFERENCA_QTN_ISLINECOMMENT_CHANGE'].fillna(0, inplace=True)\n",
        "df['DIFERENCA_QTN_ISLINECOMMENT_Aumentou'].fillna(0, inplace=True)\n",
        "df['DIFERENCA_QTN_ISLINECOMMENT_Diminuiu'].fillna(0, inplace=True)\n",
        "df['DIFERENCA_QTN_ISLINECOMMENT_Manteve'].fillna(0, inplace=True)\n",
        "\n",
        "df.drop(columns=['DIFERENCA_QTN_ISLINECOMMENT', 'DIFERENCA_QTN_ISLINECOMMENT_CHANGE'], inplace=True)"
      ]
    },
    {
      "cell_type": "code",
      "execution_count": 32,
      "metadata": {
        "colab": {
          "base_uri": "https://localhost:8080/",
          "height": 1000
        },
        "id": "05URB2Dc4sAV",
        "outputId": "58604e76-8b57-449a-e890-85ece7eeda88"
      },
      "outputs": [],
      "source": [
        "# Criar uma nova coluna 'COMMENTS_CHANGE' com valores padrão como None\n",
        "df['DIFERENCA_QNT_SEGMENTOS_CHANGE'] = None\n",
        "df['DIFERENCA_QNT_SEGMENTOS_Aumentou'] = None\n",
        "df['DIFERENCA_QNT_SEGMENTOS_Diminuiu'] = None\n",
        "df['DIFERENCA_QNT_SEGMENTOS_Manteve'] = None\n",
        "\n",
        "# Atualizar a coluna 'DIFERENCA_QNT_SEGMENTOS_CHANGE' com base na diferença calculada\n",
        "df.loc[df['DIFERENCA_QNT_SEGMENTOS'] > 0, 'DIFERENCA_QNT_SEGMENTOS_Aumentou'] = 1\n",
        "df.loc[df['DIFERENCA_QNT_SEGMENTOS'] < 0, 'DIFERENCA_QNT_SEGMENTOS_Diminuiu'] = 1\n",
        "df.loc[df['DIFERENCA_QNT_SEGMENTOS'] == 0, 'DIFERENCA_QNT_SEGMENTOS_Manteve'] = 1\n",
        "\n",
        "# Atualizar a coluna 'DIFERENCA_QNT_SEGMENTOS_CHANGE' com base na diferença calculada\n",
        "df.loc[df['DIFERENCA_QNT_SEGMENTOS'] > 0, 'DIFERENCA_QNT_SEGMENTOS_CHANGE'] = df['DIFERENCA_QNT_SEGMENTOS']\n",
        "df.loc[df['DIFERENCA_QNT_SEGMENTOS'] < 0, 'DIFERENCA_QNT_SEGMENTOS_CHANGE'] = df['DIFERENCA_QNT_SEGMENTOS']\n",
        "df.loc[df['DIFERENCA_QNT_SEGMENTOS'] == 0, 'DIFERENCA_QNT_SEGMENTOS_CHANGE'] = 0\n",
        "\n",
        "df['DIFERENCA_QNT_SEGMENTOS_CHANGE'].fillna(0, inplace=True)\n",
        "df['DIFERENCA_QNT_SEGMENTOS_Aumentou'].fillna(0, inplace=True)\n",
        "df['DIFERENCA_QNT_SEGMENTOS_Diminuiu'].fillna(0, inplace=True)\n",
        "df['DIFERENCA_QNT_SEGMENTOS_Manteve'].fillna(0, inplace=True)\n",
        "\n",
        "df.drop(columns=['DIFERENCA_QNT_SEGMENTOS', 'DIFERENCA_QNT_SEGMENTOS_CHANGE'], inplace=True)"
      ]
    },
    {
      "cell_type": "code",
      "execution_count": 33,
      "metadata": {
        "colab": {
          "base_uri": "https://localhost:8080/",
          "height": 1000
        },
        "id": "sNWhq30k426H",
        "outputId": "bf9fc977-1513-4303-e183-f28dacb9a112"
      },
      "outputs": [],
      "source": [
        "# Criar uma nova coluna 'COMMENTS_CHANGE' com valores padrão como None\n",
        "df['DIFERENCA_QTN_ISJAVADOCCOMMENT_CHANGE'] = None\n",
        "df['DIFERENCA_QTN_ISJAVADOCCOMMENT_Aumentou'] = None\n",
        "df['DIFERENCA_QTN_ISJAVADOCCOMMENT_Diminuiu'] = None\n",
        "df['DIFERENCA_QTN_ISJAVADOCCOMMENT_Manteve'] = None\n",
        "\n",
        "# Atualizar a coluna 'DIFERENCA_QTN_ISJAVADOCCOMMENT_CHANGE' com base na diferença calculada\n",
        "df.loc[df['DIFERENCA_QTN_ISJAVADOCCOMMENT'] > 0, 'DIFERENCA_QTN_ISJAVADOCCOMMENT_Aumentou'] = 1\n",
        "df.loc[df['DIFERENCA_QTN_ISJAVADOCCOMMENT'] < 0, 'DIFERENCA_QTN_ISJAVADOCCOMMENT_Diminuiu'] = 1\n",
        "df.loc[df['DIFERENCA_QTN_ISJAVADOCCOMMENT'] == 0, 'DIFERENCA_QTN_ISJAVADOCCOMMENT_Manteve'] = 1\n",
        "\n",
        "# Atualizar a coluna 'DIFERENCA_QTN_ISJAVADOCCOMMENT_CHANGE' com base na diferença calculada\n",
        "df.loc[df['DIFERENCA_QTN_ISJAVADOCCOMMENT'] > 0, 'DIFERENCA_QTN_ISJAVADOCCOMMENT_CHANGE'] = df['DIFERENCA_QTN_ISJAVADOCCOMMENT']\n",
        "df.loc[df['DIFERENCA_QTN_ISJAVADOCCOMMENT'] < 0, 'DIFERENCA_QTN_ISJAVADOCCOMMENT_CHANGE'] = df['DIFERENCA_QTN_ISJAVADOCCOMMENT']\n",
        "df.loc[df['DIFERENCA_QTN_ISJAVADOCCOMMENT'] == 0, 'DIFERENCA_QTN_ISJAVADOCCOMMENT_CHANGE'] = 0\n",
        "\n",
        "df['DIFERENCA_QTN_ISJAVADOCCOMMENT_CHANGE'].fillna(0, inplace=True)\n",
        "df['DIFERENCA_QTN_ISJAVADOCCOMMENT_Aumentou'].fillna(0, inplace=True)\n",
        "df['DIFERENCA_QTN_ISJAVADOCCOMMENT_Diminuiu'].fillna(0, inplace=True)\n",
        "df['DIFERENCA_QTN_ISJAVADOCCOMMENT_Manteve'].fillna(0, inplace=True)\n",
        "\n",
        "df.drop(columns=['DIFERENCA_QTN_ISJAVADOCCOMMENT', 'DIFERENCA_QTN_ISJAVADOCCOMMENT_CHANGE'], inplace=True)\n",
        "df.to_csv(FILE_NAME_TABELA_DIFERENCA_COMENTARIOS_BINARIO, index=False)"
      ]
    },
    {
      "cell_type": "markdown",
      "metadata": {
        "id": "r-6zN_dC6GVo"
      },
      "source": [
        "# Refactorings"
      ]
    },
    {
      "cell_type": "code",
      "execution_count": 34,
      "metadata": {
        "colab": {
          "base_uri": "https://localhost:8080/",
          "height": 965
        },
        "id": "IybLZTAh1Y9m",
        "outputId": "cd99f5b3-4fb4-414c-9473-6d002f4a4033"
      },
      "outputs": [],
      "source": [
        "DF_REFACTORING = pd.read_csv(FILE_NAME_REFACTORING)\n",
        "DF_REFACTORING.drop(columns=['11_HASH_CLASSPATH', '13_REFACTORINGTYPE'], inplace=True)\n",
        "\n",
        "# PARA CADA 10_HASH QUANTO QUANTAS REFATORACOES INDEPENDEDNTE DO !#_REFACTORINGTYPE\n",
        "# Agrupamos pelo '10_HASH' e somamos as outras colunas\n",
        "DF_REFACTORING = DF_REFACTORING.groupby([\"10_HASH\"]).sum().reset_index()\n",
        "\n",
        "#crete a new column 'REFATORACOES' with default values as 1\n",
        "DF_REFACTORING['REFATORACOES'] = 1\n",
        "\n",
        "DF_REFACTORING.to_csv(FILE_NAME_REFACTORING_AGRUPADO, index=False)"
      ]
    },
    {
      "cell_type": "code",
      "execution_count": 35,
      "metadata": {
        "colab": {
          "base_uri": "https://localhost:8080/",
          "height": 730
        },
        "id": "gdkFr_35rqXE",
        "outputId": "01897b62-d1fc-45b5-8b06-d16419a6c940"
      },
      "outputs": [],
      "source": [
        "#JUNTA O DF E O DF_REFACTORING, SE NAO TIVER VALOR EM ALGUMA COLUNA, PREENCHE COM 0\n",
        "tabela_completa = pd.merge(df, DF_REFACTORING, how='outer', on='10_HASH')\n",
        "tabela_completa.fillna(0, inplace=True)\n",
        "\n",
        "tabela_completa.to_csv(FILE_NAME_TABELA_COMPLETA, index=False)\n",
        "tabela_completa.drop(columns=['10_HASH', '11_PARENTSHASH'], inplace=True)"
      ]
    },
    {
      "cell_type": "code",
      "execution_count": 36,
      "metadata": {
        "colab": {
          "base_uri": "https://localhost:8080/"
        },
        "id": "LZa4SkD4zVV5",
        "outputId": "e9ee34ef-0e98-4a59-d80a-6323e92d5367"
      },
      "outputs": [
        {
          "name": "stderr",
          "output_type": "stream",
          "text": [
            "C:\\Users\\kleit\\AppData\\Local\\Temp\\ipykernel_15660\\1157776071.py:8: FutureWarning: DataFrame.applymap has been deprecated. Use DataFrame.map instead.\n",
            "  tabela_completa = tabela_completa.applymap(transforma_valor)\n"
          ]
        }
      ],
      "source": [
        "def transforma_valor(valor):\n",
        "    if int(valor) > 0:\n",
        "        return 1\n",
        "    else:\n",
        "        return int(valor)\n",
        "\n",
        "# Aplica a função em cada elemento do DataFrame\n",
        "tabela_completa = tabela_completa.applymap(transforma_valor)"
      ]
    },
    {
      "cell_type": "code",
      "execution_count": 37,
      "metadata": {
        "colab": {
          "base_uri": "https://localhost:8080/",
          "height": 730
        },
        "id": "9PO6sZU5jO7k",
        "outputId": "d1d15eb7-acbe-4405-f144-8466c0deebc7"
      },
      "outputs": [
        {
          "data": {
            "text/html": [
              "<div>\n",
              "<style scoped>\n",
              "    .dataframe tbody tr th:only-of-type {\n",
              "        vertical-align: middle;\n",
              "    }\n",
              "\n",
              "    .dataframe tbody tr th {\n",
              "        vertical-align: top;\n",
              "    }\n",
              "\n",
              "    .dataframe thead th {\n",
              "        text-align: right;\n",
              "    }\n",
              "</style>\n",
              "<table border=\"1\" class=\"dataframe\">\n",
              "  <thead>\n",
              "    <tr style=\"text-align: right;\">\n",
              "      <th></th>\n",
              "      <th>DIFERENCA_QNT_ISBLOCKCOMMENT_Aumentou</th>\n",
              "      <th>DIFERENCA_QNT_ISBLOCKCOMMENT_Diminuiu</th>\n",
              "      <th>DIFERENCA_QNT_ISBLOCKCOMMENT_Manteve</th>\n",
              "      <th>DIFERENCA_QTN_ISLINECOMMENT_Aumentou</th>\n",
              "      <th>DIFERENCA_QTN_ISLINECOMMENT_Diminuiu</th>\n",
              "      <th>DIFERENCA_QTN_ISLINECOMMENT_Manteve</th>\n",
              "      <th>DIFERENCA_QNT_SEGMENTOS_Aumentou</th>\n",
              "      <th>DIFERENCA_QNT_SEGMENTOS_Diminuiu</th>\n",
              "      <th>DIFERENCA_QNT_SEGMENTOS_Manteve</th>\n",
              "      <th>DIFERENCA_QTN_ISJAVADOCCOMMENT_Aumentou</th>\n",
              "      <th>DIFERENCA_QTN_ISJAVADOCCOMMENT_Diminuiu</th>\n",
              "      <th>DIFERENCA_QTN_ISJAVADOCCOMMENT_Manteve</th>\n",
              "      <th>REFATORACOES</th>\n",
              "    </tr>\n",
              "  </thead>\n",
              "  <tbody>\n",
              "    <tr>\n",
              "      <th>0</th>\n",
              "      <td>0</td>\n",
              "      <td>0</td>\n",
              "      <td>1</td>\n",
              "      <td>0</td>\n",
              "      <td>0</td>\n",
              "      <td>1</td>\n",
              "      <td>0</td>\n",
              "      <td>0</td>\n",
              "      <td>1</td>\n",
              "      <td>0</td>\n",
              "      <td>0</td>\n",
              "      <td>1</td>\n",
              "      <td>0</td>\n",
              "    </tr>\n",
              "    <tr>\n",
              "      <th>1</th>\n",
              "      <td>0</td>\n",
              "      <td>0</td>\n",
              "      <td>1</td>\n",
              "      <td>0</td>\n",
              "      <td>0</td>\n",
              "      <td>1</td>\n",
              "      <td>0</td>\n",
              "      <td>0</td>\n",
              "      <td>1</td>\n",
              "      <td>0</td>\n",
              "      <td>0</td>\n",
              "      <td>1</td>\n",
              "      <td>0</td>\n",
              "    </tr>\n",
              "    <tr>\n",
              "      <th>2</th>\n",
              "      <td>0</td>\n",
              "      <td>0</td>\n",
              "      <td>1</td>\n",
              "      <td>0</td>\n",
              "      <td>0</td>\n",
              "      <td>1</td>\n",
              "      <td>0</td>\n",
              "      <td>0</td>\n",
              "      <td>1</td>\n",
              "      <td>0</td>\n",
              "      <td>0</td>\n",
              "      <td>1</td>\n",
              "      <td>0</td>\n",
              "    </tr>\n",
              "    <tr>\n",
              "      <th>3</th>\n",
              "      <td>0</td>\n",
              "      <td>0</td>\n",
              "      <td>1</td>\n",
              "      <td>1</td>\n",
              "      <td>0</td>\n",
              "      <td>0</td>\n",
              "      <td>1</td>\n",
              "      <td>0</td>\n",
              "      <td>0</td>\n",
              "      <td>1</td>\n",
              "      <td>0</td>\n",
              "      <td>0</td>\n",
              "      <td>1</td>\n",
              "    </tr>\n",
              "    <tr>\n",
              "      <th>4</th>\n",
              "      <td>0</td>\n",
              "      <td>0</td>\n",
              "      <td>1</td>\n",
              "      <td>0</td>\n",
              "      <td>0</td>\n",
              "      <td>1</td>\n",
              "      <td>0</td>\n",
              "      <td>0</td>\n",
              "      <td>1</td>\n",
              "      <td>0</td>\n",
              "      <td>0</td>\n",
              "      <td>1</td>\n",
              "      <td>0</td>\n",
              "    </tr>\n",
              "    <tr>\n",
              "      <th>...</th>\n",
              "      <td>...</td>\n",
              "      <td>...</td>\n",
              "      <td>...</td>\n",
              "      <td>...</td>\n",
              "      <td>...</td>\n",
              "      <td>...</td>\n",
              "      <td>...</td>\n",
              "      <td>...</td>\n",
              "      <td>...</td>\n",
              "      <td>...</td>\n",
              "      <td>...</td>\n",
              "      <td>...</td>\n",
              "      <td>...</td>\n",
              "    </tr>\n",
              "    <tr>\n",
              "      <th>1833</th>\n",
              "      <td>0</td>\n",
              "      <td>0</td>\n",
              "      <td>0</td>\n",
              "      <td>0</td>\n",
              "      <td>0</td>\n",
              "      <td>0</td>\n",
              "      <td>0</td>\n",
              "      <td>0</td>\n",
              "      <td>0</td>\n",
              "      <td>0</td>\n",
              "      <td>0</td>\n",
              "      <td>0</td>\n",
              "      <td>1</td>\n",
              "    </tr>\n",
              "    <tr>\n",
              "      <th>1834</th>\n",
              "      <td>0</td>\n",
              "      <td>0</td>\n",
              "      <td>0</td>\n",
              "      <td>0</td>\n",
              "      <td>0</td>\n",
              "      <td>0</td>\n",
              "      <td>0</td>\n",
              "      <td>0</td>\n",
              "      <td>0</td>\n",
              "      <td>0</td>\n",
              "      <td>0</td>\n",
              "      <td>0</td>\n",
              "      <td>1</td>\n",
              "    </tr>\n",
              "    <tr>\n",
              "      <th>1835</th>\n",
              "      <td>0</td>\n",
              "      <td>0</td>\n",
              "      <td>0</td>\n",
              "      <td>0</td>\n",
              "      <td>0</td>\n",
              "      <td>0</td>\n",
              "      <td>0</td>\n",
              "      <td>0</td>\n",
              "      <td>0</td>\n",
              "      <td>0</td>\n",
              "      <td>0</td>\n",
              "      <td>0</td>\n",
              "      <td>1</td>\n",
              "    </tr>\n",
              "    <tr>\n",
              "      <th>1836</th>\n",
              "      <td>0</td>\n",
              "      <td>0</td>\n",
              "      <td>0</td>\n",
              "      <td>0</td>\n",
              "      <td>0</td>\n",
              "      <td>0</td>\n",
              "      <td>0</td>\n",
              "      <td>0</td>\n",
              "      <td>0</td>\n",
              "      <td>0</td>\n",
              "      <td>0</td>\n",
              "      <td>0</td>\n",
              "      <td>1</td>\n",
              "    </tr>\n",
              "    <tr>\n",
              "      <th>1837</th>\n",
              "      <td>0</td>\n",
              "      <td>0</td>\n",
              "      <td>0</td>\n",
              "      <td>0</td>\n",
              "      <td>0</td>\n",
              "      <td>0</td>\n",
              "      <td>0</td>\n",
              "      <td>0</td>\n",
              "      <td>0</td>\n",
              "      <td>0</td>\n",
              "      <td>0</td>\n",
              "      <td>0</td>\n",
              "      <td>1</td>\n",
              "    </tr>\n",
              "  </tbody>\n",
              "</table>\n",
              "<p>1838 rows × 13 columns</p>\n",
              "</div>"
            ],
            "text/plain": [
              "      DIFERENCA_QNT_ISBLOCKCOMMENT_Aumentou  \\\n",
              "0                                         0   \n",
              "1                                         0   \n",
              "2                                         0   \n",
              "3                                         0   \n",
              "4                                         0   \n",
              "...                                     ...   \n",
              "1833                                      0   \n",
              "1834                                      0   \n",
              "1835                                      0   \n",
              "1836                                      0   \n",
              "1837                                      0   \n",
              "\n",
              "      DIFERENCA_QNT_ISBLOCKCOMMENT_Diminuiu  \\\n",
              "0                                         0   \n",
              "1                                         0   \n",
              "2                                         0   \n",
              "3                                         0   \n",
              "4                                         0   \n",
              "...                                     ...   \n",
              "1833                                      0   \n",
              "1834                                      0   \n",
              "1835                                      0   \n",
              "1836                                      0   \n",
              "1837                                      0   \n",
              "\n",
              "      DIFERENCA_QNT_ISBLOCKCOMMENT_Manteve  \\\n",
              "0                                        1   \n",
              "1                                        1   \n",
              "2                                        1   \n",
              "3                                        1   \n",
              "4                                        1   \n",
              "...                                    ...   \n",
              "1833                                     0   \n",
              "1834                                     0   \n",
              "1835                                     0   \n",
              "1836                                     0   \n",
              "1837                                     0   \n",
              "\n",
              "      DIFERENCA_QTN_ISLINECOMMENT_Aumentou  \\\n",
              "0                                        0   \n",
              "1                                        0   \n",
              "2                                        0   \n",
              "3                                        1   \n",
              "4                                        0   \n",
              "...                                    ...   \n",
              "1833                                     0   \n",
              "1834                                     0   \n",
              "1835                                     0   \n",
              "1836                                     0   \n",
              "1837                                     0   \n",
              "\n",
              "      DIFERENCA_QTN_ISLINECOMMENT_Diminuiu  \\\n",
              "0                                        0   \n",
              "1                                        0   \n",
              "2                                        0   \n",
              "3                                        0   \n",
              "4                                        0   \n",
              "...                                    ...   \n",
              "1833                                     0   \n",
              "1834                                     0   \n",
              "1835                                     0   \n",
              "1836                                     0   \n",
              "1837                                     0   \n",
              "\n",
              "      DIFERENCA_QTN_ISLINECOMMENT_Manteve  DIFERENCA_QNT_SEGMENTOS_Aumentou  \\\n",
              "0                                       1                                 0   \n",
              "1                                       1                                 0   \n",
              "2                                       1                                 0   \n",
              "3                                       0                                 1   \n",
              "4                                       1                                 0   \n",
              "...                                   ...                               ...   \n",
              "1833                                    0                                 0   \n",
              "1834                                    0                                 0   \n",
              "1835                                    0                                 0   \n",
              "1836                                    0                                 0   \n",
              "1837                                    0                                 0   \n",
              "\n",
              "      DIFERENCA_QNT_SEGMENTOS_Diminuiu  DIFERENCA_QNT_SEGMENTOS_Manteve  \\\n",
              "0                                    0                                1   \n",
              "1                                    0                                1   \n",
              "2                                    0                                1   \n",
              "3                                    0                                0   \n",
              "4                                    0                                1   \n",
              "...                                ...                              ...   \n",
              "1833                                 0                                0   \n",
              "1834                                 0                                0   \n",
              "1835                                 0                                0   \n",
              "1836                                 0                                0   \n",
              "1837                                 0                                0   \n",
              "\n",
              "      DIFERENCA_QTN_ISJAVADOCCOMMENT_Aumentou  \\\n",
              "0                                           0   \n",
              "1                                           0   \n",
              "2                                           0   \n",
              "3                                           1   \n",
              "4                                           0   \n",
              "...                                       ...   \n",
              "1833                                        0   \n",
              "1834                                        0   \n",
              "1835                                        0   \n",
              "1836                                        0   \n",
              "1837                                        0   \n",
              "\n",
              "      DIFERENCA_QTN_ISJAVADOCCOMMENT_Diminuiu  \\\n",
              "0                                           0   \n",
              "1                                           0   \n",
              "2                                           0   \n",
              "3                                           0   \n",
              "4                                           0   \n",
              "...                                       ...   \n",
              "1833                                        0   \n",
              "1834                                        0   \n",
              "1835                                        0   \n",
              "1836                                        0   \n",
              "1837                                        0   \n",
              "\n",
              "      DIFERENCA_QTN_ISJAVADOCCOMMENT_Manteve  REFATORACOES  \n",
              "0                                          1             0  \n",
              "1                                          1             0  \n",
              "2                                          1             0  \n",
              "3                                          0             1  \n",
              "4                                          1             0  \n",
              "...                                      ...           ...  \n",
              "1833                                       0             1  \n",
              "1834                                       0             1  \n",
              "1835                                       0             1  \n",
              "1836                                       0             1  \n",
              "1837                                       0             1  \n",
              "\n",
              "[1838 rows x 13 columns]"
            ]
          },
          "execution_count": 37,
          "metadata": {},
          "output_type": "execute_result"
        }
      ],
      "source": [
        "tabela_completa"
      ]
    },
    {
      "cell_type": "code",
      "execution_count": 38,
      "metadata": {
        "colab": {
          "base_uri": "https://localhost:8080/"
        },
        "id": "QYfgF5GPp_Qz",
        "outputId": "89088179-e65d-4d9e-9ec4-2d07cbd9a4b6"
      },
      "outputs": [
        {
          "name": "stderr",
          "output_type": "stream",
          "text": [
            "c:\\Python312\\Lib\\site-packages\\mlxtend\\frequent_patterns\\fpcommon.py:109: DeprecationWarning: DataFrames with non-bool types result in worse computationalperformance and their support might be discontinued in the future.Please use a DataFrame with bool type\n",
            "  warnings.warn(\n"
          ]
        }
      ],
      "source": [
        "itemsets = apriori(tabela_completa, min_support=0.01, use_colnames=True, max_len=2)\n"
      ]
    },
    {
      "cell_type": "markdown",
      "metadata": {
        "id": "aHe3bkx0eKeN"
      },
      "source": [
        "# Regras"
      ]
    },
    {
      "cell_type": "code",
      "execution_count": 39,
      "metadata": {
        "colab": {
          "base_uri": "https://localhost:8080/"
        },
        "id": "Pa4NHy8HzeQh",
        "outputId": "9749b571-03d8-4d99-a3fd-1436cc99ab6e"
      },
      "outputs": [],
      "source": [
        "\n",
        "rules = association_rules(itemsets, metric=\"support\", min_threshold=0.01)\n"
      ]
    },
    {
      "cell_type": "code",
      "execution_count": 40,
      "metadata": {},
      "outputs": [],
      "source": [
        "# ordem by support\n",
        "rules = rules.sort_values(by='support', ascending=False)\n",
        "# rules['antecedents'] = rules['antecedents'].apply(lambda x: ', '.join(list(x)))\n",
        "# rules['consequents'] = rules['consequents'].apply(lambda x: ', '.join(list(x)))\n",
        "rules.to_csv(FILE_NAME_TABELA_REGRAS, index=False)"
      ]
    },
    {
      "cell_type": "code",
      "execution_count": 41,
      "metadata": {},
      "outputs": [
        {
          "data": {
            "text/html": [
              "<div>\n",
              "<style scoped>\n",
              "    .dataframe tbody tr th:only-of-type {\n",
              "        vertical-align: middle;\n",
              "    }\n",
              "\n",
              "    .dataframe tbody tr th {\n",
              "        vertical-align: top;\n",
              "    }\n",
              "\n",
              "    .dataframe thead th {\n",
              "        text-align: right;\n",
              "    }\n",
              "</style>\n",
              "<table border=\"1\" class=\"dataframe\">\n",
              "  <thead>\n",
              "    <tr style=\"text-align: right;\">\n",
              "      <th></th>\n",
              "      <th>antecedents</th>\n",
              "      <th>consequents</th>\n",
              "      <th>antecedent support</th>\n",
              "      <th>consequent support</th>\n",
              "      <th>support</th>\n",
              "      <th>confidence</th>\n",
              "      <th>lift</th>\n",
              "      <th>leverage</th>\n",
              "      <th>conviction</th>\n",
              "      <th>zhangs_metric</th>\n",
              "    </tr>\n",
              "  </thead>\n",
              "  <tbody>\n",
              "    <tr>\n",
              "      <th>25</th>\n",
              "      <td>(DIFERENCA_QTN_ISJAVADOCCOMMENT_Manteve)</td>\n",
              "      <td>(DIFERENCA_QNT_ISBLOCKCOMMENT_Manteve)</td>\n",
              "      <td>0.791077</td>\n",
              "      <td>0.917301</td>\n",
              "      <td>0.785637</td>\n",
              "      <td>0.993122</td>\n",
              "      <td>1.082657</td>\n",
              "      <td>0.059980</td>\n",
              "      <td>12.024374</td>\n",
              "      <td>0.365427</td>\n",
              "    </tr>\n",
              "    <tr>\n",
              "      <th>24</th>\n",
              "      <td>(DIFERENCA_QNT_ISBLOCKCOMMENT_Manteve)</td>\n",
              "      <td>(DIFERENCA_QTN_ISJAVADOCCOMMENT_Manteve)</td>\n",
              "      <td>0.917301</td>\n",
              "      <td>0.791077</td>\n",
              "      <td>0.785637</td>\n",
              "      <td>0.856465</td>\n",
              "      <td>1.082657</td>\n",
              "      <td>0.059980</td>\n",
              "      <td>1.455553</td>\n",
              "      <td>0.923185</td>\n",
              "    </tr>\n",
              "    <tr>\n",
              "      <th>12</th>\n",
              "      <td>(DIFERENCA_QTN_ISLINECOMMENT_Manteve)</td>\n",
              "      <td>(DIFERENCA_QNT_ISBLOCKCOMMENT_Manteve)</td>\n",
              "      <td>0.745375</td>\n",
              "      <td>0.917301</td>\n",
              "      <td>0.738847</td>\n",
              "      <td>0.991241</td>\n",
              "      <td>1.080605</td>\n",
              "      <td>0.055113</td>\n",
              "      <td>9.441422</td>\n",
              "      <td>0.292952</td>\n",
              "    </tr>\n",
              "    <tr>\n",
              "      <th>13</th>\n",
              "      <td>(DIFERENCA_QNT_ISBLOCKCOMMENT_Manteve)</td>\n",
              "      <td>(DIFERENCA_QTN_ISLINECOMMENT_Manteve)</td>\n",
              "      <td>0.917301</td>\n",
              "      <td>0.745375</td>\n",
              "      <td>0.738847</td>\n",
              "      <td>0.805457</td>\n",
              "      <td>1.080605</td>\n",
              "      <td>0.055113</td>\n",
              "      <td>1.308833</td>\n",
              "      <td>0.901984</td>\n",
              "    </tr>\n",
              "    <tr>\n",
              "      <th>57</th>\n",
              "      <td>(DIFERENCA_QTN_ISJAVADOCCOMMENT_Manteve)</td>\n",
              "      <td>(DIFERENCA_QTN_ISLINECOMMENT_Manteve)</td>\n",
              "      <td>0.791077</td>\n",
              "      <td>0.745375</td>\n",
              "      <td>0.702394</td>\n",
              "      <td>0.887895</td>\n",
              "      <td>1.191206</td>\n",
              "      <td>0.112744</td>\n",
              "      <td>2.271314</td>\n",
              "      <td>0.768296</td>\n",
              "    </tr>\n",
              "    <tr>\n",
              "      <th>...</th>\n",
              "      <td>...</td>\n",
              "      <td>...</td>\n",
              "      <td>...</td>\n",
              "      <td>...</td>\n",
              "      <td>...</td>\n",
              "      <td>...</td>\n",
              "      <td>...</td>\n",
              "      <td>...</td>\n",
              "      <td>...</td>\n",
              "      <td>...</td>\n",
              "    </tr>\n",
              "    <tr>\n",
              "      <th>36</th>\n",
              "      <td>(DIFERENCA_QNT_SEGMENTOS_Aumentou)</td>\n",
              "      <td>(DIFERENCA_QTN_ISLINECOMMENT_Diminuiu)</td>\n",
              "      <td>0.217628</td>\n",
              "      <td>0.042982</td>\n",
              "      <td>0.013058</td>\n",
              "      <td>0.060000</td>\n",
              "      <td>1.395949</td>\n",
              "      <td>0.003704</td>\n",
              "      <td>1.018105</td>\n",
              "      <td>0.362541</td>\n",
              "    </tr>\n",
              "    <tr>\n",
              "      <th>7</th>\n",
              "      <td>(DIFERENCA_QNT_ISBLOCKCOMMENT_Aumentou)</td>\n",
              "      <td>(REFATORACOES)</td>\n",
              "      <td>0.019042</td>\n",
              "      <td>0.267682</td>\n",
              "      <td>0.012514</td>\n",
              "      <td>0.657143</td>\n",
              "      <td>2.454936</td>\n",
              "      <td>0.007416</td>\n",
              "      <td>2.135927</td>\n",
              "      <td>0.604162</td>\n",
              "    </tr>\n",
              "    <tr>\n",
              "      <th>6</th>\n",
              "      <td>(REFATORACOES)</td>\n",
              "      <td>(DIFERENCA_QNT_ISBLOCKCOMMENT_Aumentou)</td>\n",
              "      <td>0.267682</td>\n",
              "      <td>0.019042</td>\n",
              "      <td>0.012514</td>\n",
              "      <td>0.046748</td>\n",
              "      <td>2.454936</td>\n",
              "      <td>0.007416</td>\n",
              "      <td>1.029064</td>\n",
              "      <td>0.809290</td>\n",
              "    </tr>\n",
              "    <tr>\n",
              "      <th>43</th>\n",
              "      <td>(DIFERENCA_QTN_ISLINECOMMENT_Diminuiu)</td>\n",
              "      <td>(DIFERENCA_QTN_ISJAVADOCCOMMENT_Diminuiu)</td>\n",
              "      <td>0.042982</td>\n",
              "      <td>0.021219</td>\n",
              "      <td>0.010881</td>\n",
              "      <td>0.253165</td>\n",
              "      <td>11.931191</td>\n",
              "      <td>0.009969</td>\n",
              "      <td>1.310572</td>\n",
              "      <td>0.957334</td>\n",
              "    </tr>\n",
              "    <tr>\n",
              "      <th>42</th>\n",
              "      <td>(DIFERENCA_QTN_ISJAVADOCCOMMENT_Diminuiu)</td>\n",
              "      <td>(DIFERENCA_QTN_ISLINECOMMENT_Diminuiu)</td>\n",
              "      <td>0.021219</td>\n",
              "      <td>0.042982</td>\n",
              "      <td>0.010881</td>\n",
              "      <td>0.512821</td>\n",
              "      <td>11.931191</td>\n",
              "      <td>0.009969</td>\n",
              "      <td>1.964406</td>\n",
              "      <td>0.936048</td>\n",
              "    </tr>\n",
              "  </tbody>\n",
              "</table>\n",
              "<p>82 rows × 10 columns</p>\n",
              "</div>"
            ],
            "text/plain": [
              "                                  antecedents  \\\n",
              "25   (DIFERENCA_QTN_ISJAVADOCCOMMENT_Manteve)   \n",
              "24     (DIFERENCA_QNT_ISBLOCKCOMMENT_Manteve)   \n",
              "12      (DIFERENCA_QTN_ISLINECOMMENT_Manteve)   \n",
              "13     (DIFERENCA_QNT_ISBLOCKCOMMENT_Manteve)   \n",
              "57   (DIFERENCA_QTN_ISJAVADOCCOMMENT_Manteve)   \n",
              "..                                        ...   \n",
              "36         (DIFERENCA_QNT_SEGMENTOS_Aumentou)   \n",
              "7     (DIFERENCA_QNT_ISBLOCKCOMMENT_Aumentou)   \n",
              "6                              (REFATORACOES)   \n",
              "43     (DIFERENCA_QTN_ISLINECOMMENT_Diminuiu)   \n",
              "42  (DIFERENCA_QTN_ISJAVADOCCOMMENT_Diminuiu)   \n",
              "\n",
              "                                  consequents  antecedent support  \\\n",
              "25     (DIFERENCA_QNT_ISBLOCKCOMMENT_Manteve)            0.791077   \n",
              "24   (DIFERENCA_QTN_ISJAVADOCCOMMENT_Manteve)            0.917301   \n",
              "12     (DIFERENCA_QNT_ISBLOCKCOMMENT_Manteve)            0.745375   \n",
              "13      (DIFERENCA_QTN_ISLINECOMMENT_Manteve)            0.917301   \n",
              "57      (DIFERENCA_QTN_ISLINECOMMENT_Manteve)            0.791077   \n",
              "..                                        ...                 ...   \n",
              "36     (DIFERENCA_QTN_ISLINECOMMENT_Diminuiu)            0.217628   \n",
              "7                              (REFATORACOES)            0.019042   \n",
              "6     (DIFERENCA_QNT_ISBLOCKCOMMENT_Aumentou)            0.267682   \n",
              "43  (DIFERENCA_QTN_ISJAVADOCCOMMENT_Diminuiu)            0.042982   \n",
              "42     (DIFERENCA_QTN_ISLINECOMMENT_Diminuiu)            0.021219   \n",
              "\n",
              "    consequent support   support  confidence       lift  leverage  conviction  \\\n",
              "25            0.917301  0.785637    0.993122   1.082657  0.059980   12.024374   \n",
              "24            0.791077  0.785637    0.856465   1.082657  0.059980    1.455553   \n",
              "12            0.917301  0.738847    0.991241   1.080605  0.055113    9.441422   \n",
              "13            0.745375  0.738847    0.805457   1.080605  0.055113    1.308833   \n",
              "57            0.745375  0.702394    0.887895   1.191206  0.112744    2.271314   \n",
              "..                 ...       ...         ...        ...       ...         ...   \n",
              "36            0.042982  0.013058    0.060000   1.395949  0.003704    1.018105   \n",
              "7             0.267682  0.012514    0.657143   2.454936  0.007416    2.135927   \n",
              "6             0.019042  0.012514    0.046748   2.454936  0.007416    1.029064   \n",
              "43            0.021219  0.010881    0.253165  11.931191  0.009969    1.310572   \n",
              "42            0.042982  0.010881    0.512821  11.931191  0.009969    1.964406   \n",
              "\n",
              "    zhangs_metric  \n",
              "25       0.365427  \n",
              "24       0.923185  \n",
              "12       0.292952  \n",
              "13       0.901984  \n",
              "57       0.768296  \n",
              "..            ...  \n",
              "36       0.362541  \n",
              "7        0.604162  \n",
              "6        0.809290  \n",
              "43       0.957334  \n",
              "42       0.936048  \n",
              "\n",
              "[82 rows x 10 columns]"
            ]
          },
          "execution_count": 41,
          "metadata": {},
          "output_type": "execute_result"
        }
      ],
      "source": [
        "rules"
      ]
    }
  ],
  "metadata": {
    "colab": {
      "collapsed_sections": [
        "F9YCxt5xxATJ"
      ],
      "provenance": [],
      "toc_visible": true
    },
    "kernelspec": {
      "display_name": "Python 3",
      "name": "python3"
    },
    "language_info": {
      "codemirror_mode": {
        "name": "ipython",
        "version": 3
      },
      "file_extension": ".py",
      "mimetype": "text/x-python",
      "name": "python",
      "nbconvert_exporter": "python",
      "pygments_lexer": "ipython3",
      "version": "3.12.3"
    }
  },
  "nbformat": 4,
  "nbformat_minor": 0
}
